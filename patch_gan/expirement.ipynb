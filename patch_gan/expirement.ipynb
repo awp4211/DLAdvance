{
 "cells": [
  {
   "cell_type": "code",
   "execution_count": 1,
   "metadata": {
    "collapsed": true,
    "deletable": true,
    "editable": true
   },
   "outputs": [],
   "source": [
    "import tensorflow as tf\n",
    "import numpy as np"
   ]
  },
  {
   "cell_type": "code",
   "execution_count": 2,
   "metadata": {
    "collapsed": true,
    "deletable": true,
    "editable": true
   },
   "outputs": [],
   "source": [
    "x1 = tf.cast(tf.Variable(np.arange(48).reshape(3,4,4)), tf.int32)\n",
    "x2 = tf.cast(tf.Variable(np.arange(48).reshape(3,4,4)), tf.int32)\n",
    "x3 = tf.cast(tf.Variable(np.arange(48).reshape(3,4,4)), tf.int32)\n",
    "x4 = tf.cast(tf.Variable(np.arange(48).reshape(3,4,4)), tf.int32)"
   ]
  },
  {
   "cell_type": "code",
   "execution_count": 3,
   "metadata": {
    "collapsed": true,
    "deletable": true,
    "editable": true
   },
   "outputs": [],
   "source": [
    "xx1 = tf.pad(x1, paddings=[[0, 0], [0, 4], [0, 4]], mode=\"CONSTANT\")\n",
    "xx2 = tf.pad(x2, paddings=[[0, 0], [4, 0], [0, 4]], mode=\"CONSTANT\")\n",
    "xx3 = tf.pad(x3, paddings=[[0, 0], [0, 4], [4, 0]], mode=\"CONSTANT\")\n",
    "xx4 = tf.pad(x4, paddings=[[0, 0], [4, 0], [4, 0]], mode=\"CONSTANT\")"
   ]
  },
  {
   "cell_type": "code",
   "execution_count": 4,
   "metadata": {
    "collapsed": false,
    "deletable": true,
    "editable": true
   },
   "outputs": [],
   "source": [
    "y1 = tf.add(xx1, xx2)\n",
    "y2 = tf.add(y1, xx3)\n",
    "y3 = tf.add(y2, xx4)"
   ]
  },
  {
   "cell_type": "code",
   "execution_count": 5,
   "metadata": {
    "collapsed": true,
    "deletable": true,
    "editable": true
   },
   "outputs": [],
   "source": [
    "sess = tf.Session()"
   ]
  },
  {
   "cell_type": "code",
   "execution_count": 6,
   "metadata": {
    "collapsed": true,
    "deletable": true,
    "editable": true
   },
   "outputs": [],
   "source": [
    "sess.run(tf.global_variables_initializer())"
   ]
  },
  {
   "cell_type": "code",
   "execution_count": 7,
   "metadata": {
    "collapsed": false,
    "deletable": true,
    "editable": true
   },
   "outputs": [
    {
     "data": {
      "text/plain": [
       "array([[[ 0,  1,  2,  3],\n",
       "        [ 4,  5,  6,  7],\n",
       "        [ 8,  9, 10, 11],\n",
       "        [12, 13, 14, 15]],\n",
       "\n",
       "       [[16, 17, 18, 19],\n",
       "        [20, 21, 22, 23],\n",
       "        [24, 25, 26, 27],\n",
       "        [28, 29, 30, 31]],\n",
       "\n",
       "       [[32, 33, 34, 35],\n",
       "        [36, 37, 38, 39],\n",
       "        [40, 41, 42, 43],\n",
       "        [44, 45, 46, 47]]], dtype=int32)"
      ]
     },
     "execution_count": 7,
     "metadata": {},
     "output_type": "execute_result"
    }
   ],
   "source": [
    "sess.run(x1)"
   ]
  },
  {
   "cell_type": "code",
   "execution_count": 8,
   "metadata": {
    "collapsed": false,
    "deletable": true,
    "editable": true
   },
   "outputs": [
    {
     "data": {
      "text/plain": [
       "array([[[ 0,  1,  2,  3,  0,  0,  0,  0],\n",
       "        [ 4,  5,  6,  7,  0,  0,  0,  0],\n",
       "        [ 8,  9, 10, 11,  0,  0,  0,  0],\n",
       "        [12, 13, 14, 15,  0,  0,  0,  0],\n",
       "        [ 0,  0,  0,  0,  0,  0,  0,  0],\n",
       "        [ 0,  0,  0,  0,  0,  0,  0,  0],\n",
       "        [ 0,  0,  0,  0,  0,  0,  0,  0],\n",
       "        [ 0,  0,  0,  0,  0,  0,  0,  0]],\n",
       "\n",
       "       [[16, 17, 18, 19,  0,  0,  0,  0],\n",
       "        [20, 21, 22, 23,  0,  0,  0,  0],\n",
       "        [24, 25, 26, 27,  0,  0,  0,  0],\n",
       "        [28, 29, 30, 31,  0,  0,  0,  0],\n",
       "        [ 0,  0,  0,  0,  0,  0,  0,  0],\n",
       "        [ 0,  0,  0,  0,  0,  0,  0,  0],\n",
       "        [ 0,  0,  0,  0,  0,  0,  0,  0],\n",
       "        [ 0,  0,  0,  0,  0,  0,  0,  0]],\n",
       "\n",
       "       [[32, 33, 34, 35,  0,  0,  0,  0],\n",
       "        [36, 37, 38, 39,  0,  0,  0,  0],\n",
       "        [40, 41, 42, 43,  0,  0,  0,  0],\n",
       "        [44, 45, 46, 47,  0,  0,  0,  0],\n",
       "        [ 0,  0,  0,  0,  0,  0,  0,  0],\n",
       "        [ 0,  0,  0,  0,  0,  0,  0,  0],\n",
       "        [ 0,  0,  0,  0,  0,  0,  0,  0],\n",
       "        [ 0,  0,  0,  0,  0,  0,  0,  0]]], dtype=int32)"
      ]
     },
     "execution_count": 8,
     "metadata": {},
     "output_type": "execute_result"
    }
   ],
   "source": [
    "sess.run(xx1)"
   ]
  },
  {
   "cell_type": "code",
   "execution_count": 9,
   "metadata": {
    "collapsed": false,
    "deletable": true,
    "editable": true
   },
   "outputs": [
    {
     "data": {
      "text/plain": [
       "array([[[ 0,  0,  0,  0,  0,  0,  0,  0],\n",
       "        [ 0,  0,  0,  0,  0,  0,  0,  0],\n",
       "        [ 0,  0,  0,  0,  0,  0,  0,  0],\n",
       "        [ 0,  0,  0,  0,  0,  0,  0,  0],\n",
       "        [ 0,  1,  2,  3,  0,  0,  0,  0],\n",
       "        [ 4,  5,  6,  7,  0,  0,  0,  0],\n",
       "        [ 8,  9, 10, 11,  0,  0,  0,  0],\n",
       "        [12, 13, 14, 15,  0,  0,  0,  0]],\n",
       "\n",
       "       [[ 0,  0,  0,  0,  0,  0,  0,  0],\n",
       "        [ 0,  0,  0,  0,  0,  0,  0,  0],\n",
       "        [ 0,  0,  0,  0,  0,  0,  0,  0],\n",
       "        [ 0,  0,  0,  0,  0,  0,  0,  0],\n",
       "        [16, 17, 18, 19,  0,  0,  0,  0],\n",
       "        [20, 21, 22, 23,  0,  0,  0,  0],\n",
       "        [24, 25, 26, 27,  0,  0,  0,  0],\n",
       "        [28, 29, 30, 31,  0,  0,  0,  0]],\n",
       "\n",
       "       [[ 0,  0,  0,  0,  0,  0,  0,  0],\n",
       "        [ 0,  0,  0,  0,  0,  0,  0,  0],\n",
       "        [ 0,  0,  0,  0,  0,  0,  0,  0],\n",
       "        [ 0,  0,  0,  0,  0,  0,  0,  0],\n",
       "        [32, 33, 34, 35,  0,  0,  0,  0],\n",
       "        [36, 37, 38, 39,  0,  0,  0,  0],\n",
       "        [40, 41, 42, 43,  0,  0,  0,  0],\n",
       "        [44, 45, 46, 47,  0,  0,  0,  0]]], dtype=int32)"
      ]
     },
     "execution_count": 9,
     "metadata": {},
     "output_type": "execute_result"
    }
   ],
   "source": [
    "sess.run(xx2)"
   ]
  },
  {
   "cell_type": "code",
   "execution_count": 10,
   "metadata": {
    "collapsed": false,
    "deletable": true,
    "editable": true
   },
   "outputs": [
    {
     "data": {
      "text/plain": [
       "array([[[ 0,  0,  0,  0,  0,  1,  2,  3],\n",
       "        [ 0,  0,  0,  0,  4,  5,  6,  7],\n",
       "        [ 0,  0,  0,  0,  8,  9, 10, 11],\n",
       "        [ 0,  0,  0,  0, 12, 13, 14, 15],\n",
       "        [ 0,  0,  0,  0,  0,  0,  0,  0],\n",
       "        [ 0,  0,  0,  0,  0,  0,  0,  0],\n",
       "        [ 0,  0,  0,  0,  0,  0,  0,  0],\n",
       "        [ 0,  0,  0,  0,  0,  0,  0,  0]],\n",
       "\n",
       "       [[ 0,  0,  0,  0, 16, 17, 18, 19],\n",
       "        [ 0,  0,  0,  0, 20, 21, 22, 23],\n",
       "        [ 0,  0,  0,  0, 24, 25, 26, 27],\n",
       "        [ 0,  0,  0,  0, 28, 29, 30, 31],\n",
       "        [ 0,  0,  0,  0,  0,  0,  0,  0],\n",
       "        [ 0,  0,  0,  0,  0,  0,  0,  0],\n",
       "        [ 0,  0,  0,  0,  0,  0,  0,  0],\n",
       "        [ 0,  0,  0,  0,  0,  0,  0,  0]],\n",
       "\n",
       "       [[ 0,  0,  0,  0, 32, 33, 34, 35],\n",
       "        [ 0,  0,  0,  0, 36, 37, 38, 39],\n",
       "        [ 0,  0,  0,  0, 40, 41, 42, 43],\n",
       "        [ 0,  0,  0,  0, 44, 45, 46, 47],\n",
       "        [ 0,  0,  0,  0,  0,  0,  0,  0],\n",
       "        [ 0,  0,  0,  0,  0,  0,  0,  0],\n",
       "        [ 0,  0,  0,  0,  0,  0,  0,  0],\n",
       "        [ 0,  0,  0,  0,  0,  0,  0,  0]]], dtype=int32)"
      ]
     },
     "execution_count": 10,
     "metadata": {},
     "output_type": "execute_result"
    }
   ],
   "source": [
    "sess.run(xx3)"
   ]
  },
  {
   "cell_type": "code",
   "execution_count": 11,
   "metadata": {
    "collapsed": false,
    "deletable": true,
    "editable": true
   },
   "outputs": [
    {
     "data": {
      "text/plain": [
       "array([[[ 0,  0,  0,  0,  0,  0,  0,  0],\n",
       "        [ 0,  0,  0,  0,  0,  0,  0,  0],\n",
       "        [ 0,  0,  0,  0,  0,  0,  0,  0],\n",
       "        [ 0,  0,  0,  0,  0,  0,  0,  0],\n",
       "        [ 0,  0,  0,  0,  0,  1,  2,  3],\n",
       "        [ 0,  0,  0,  0,  4,  5,  6,  7],\n",
       "        [ 0,  0,  0,  0,  8,  9, 10, 11],\n",
       "        [ 0,  0,  0,  0, 12, 13, 14, 15]],\n",
       "\n",
       "       [[ 0,  0,  0,  0,  0,  0,  0,  0],\n",
       "        [ 0,  0,  0,  0,  0,  0,  0,  0],\n",
       "        [ 0,  0,  0,  0,  0,  0,  0,  0],\n",
       "        [ 0,  0,  0,  0,  0,  0,  0,  0],\n",
       "        [ 0,  0,  0,  0, 16, 17, 18, 19],\n",
       "        [ 0,  0,  0,  0, 20, 21, 22, 23],\n",
       "        [ 0,  0,  0,  0, 24, 25, 26, 27],\n",
       "        [ 0,  0,  0,  0, 28, 29, 30, 31]],\n",
       "\n",
       "       [[ 0,  0,  0,  0,  0,  0,  0,  0],\n",
       "        [ 0,  0,  0,  0,  0,  0,  0,  0],\n",
       "        [ 0,  0,  0,  0,  0,  0,  0,  0],\n",
       "        [ 0,  0,  0,  0,  0,  0,  0,  0],\n",
       "        [ 0,  0,  0,  0, 32, 33, 34, 35],\n",
       "        [ 0,  0,  0,  0, 36, 37, 38, 39],\n",
       "        [ 0,  0,  0,  0, 40, 41, 42, 43],\n",
       "        [ 0,  0,  0,  0, 44, 45, 46, 47]]], dtype=int32)"
      ]
     },
     "execution_count": 11,
     "metadata": {},
     "output_type": "execute_result"
    }
   ],
   "source": [
    "sess.run(xx4)"
   ]
  },
  {
   "cell_type": "code",
   "execution_count": 12,
   "metadata": {
    "collapsed": false,
    "deletable": true,
    "editable": true
   },
   "outputs": [
    {
     "data": {
      "text/plain": [
       "array([[[ 0,  1,  2,  3,  0,  0,  0,  0],\n",
       "        [ 4,  5,  6,  7,  0,  0,  0,  0],\n",
       "        [ 8,  9, 10, 11,  0,  0,  0,  0],\n",
       "        [12, 13, 14, 15,  0,  0,  0,  0],\n",
       "        [ 0,  1,  2,  3,  0,  0,  0,  0],\n",
       "        [ 4,  5,  6,  7,  0,  0,  0,  0],\n",
       "        [ 8,  9, 10, 11,  0,  0,  0,  0],\n",
       "        [12, 13, 14, 15,  0,  0,  0,  0]],\n",
       "\n",
       "       [[16, 17, 18, 19,  0,  0,  0,  0],\n",
       "        [20, 21, 22, 23,  0,  0,  0,  0],\n",
       "        [24, 25, 26, 27,  0,  0,  0,  0],\n",
       "        [28, 29, 30, 31,  0,  0,  0,  0],\n",
       "        [16, 17, 18, 19,  0,  0,  0,  0],\n",
       "        [20, 21, 22, 23,  0,  0,  0,  0],\n",
       "        [24, 25, 26, 27,  0,  0,  0,  0],\n",
       "        [28, 29, 30, 31,  0,  0,  0,  0]],\n",
       "\n",
       "       [[32, 33, 34, 35,  0,  0,  0,  0],\n",
       "        [36, 37, 38, 39,  0,  0,  0,  0],\n",
       "        [40, 41, 42, 43,  0,  0,  0,  0],\n",
       "        [44, 45, 46, 47,  0,  0,  0,  0],\n",
       "        [32, 33, 34, 35,  0,  0,  0,  0],\n",
       "        [36, 37, 38, 39,  0,  0,  0,  0],\n",
       "        [40, 41, 42, 43,  0,  0,  0,  0],\n",
       "        [44, 45, 46, 47,  0,  0,  0,  0]]], dtype=int32)"
      ]
     },
     "execution_count": 12,
     "metadata": {},
     "output_type": "execute_result"
    }
   ],
   "source": [
    "sess.run(y1)"
   ]
  },
  {
   "cell_type": "code",
   "execution_count": 13,
   "metadata": {
    "collapsed": false,
    "deletable": true,
    "editable": true
   },
   "outputs": [
    {
     "data": {
      "text/plain": [
       "array([[[ 0,  1,  2,  3,  0,  1,  2,  3],\n",
       "        [ 4,  5,  6,  7,  4,  5,  6,  7],\n",
       "        [ 8,  9, 10, 11,  8,  9, 10, 11],\n",
       "        [12, 13, 14, 15, 12, 13, 14, 15],\n",
       "        [ 0,  1,  2,  3,  0,  0,  0,  0],\n",
       "        [ 4,  5,  6,  7,  0,  0,  0,  0],\n",
       "        [ 8,  9, 10, 11,  0,  0,  0,  0],\n",
       "        [12, 13, 14, 15,  0,  0,  0,  0]],\n",
       "\n",
       "       [[16, 17, 18, 19, 16, 17, 18, 19],\n",
       "        [20, 21, 22, 23, 20, 21, 22, 23],\n",
       "        [24, 25, 26, 27, 24, 25, 26, 27],\n",
       "        [28, 29, 30, 31, 28, 29, 30, 31],\n",
       "        [16, 17, 18, 19,  0,  0,  0,  0],\n",
       "        [20, 21, 22, 23,  0,  0,  0,  0],\n",
       "        [24, 25, 26, 27,  0,  0,  0,  0],\n",
       "        [28, 29, 30, 31,  0,  0,  0,  0]],\n",
       "\n",
       "       [[32, 33, 34, 35, 32, 33, 34, 35],\n",
       "        [36, 37, 38, 39, 36, 37, 38, 39],\n",
       "        [40, 41, 42, 43, 40, 41, 42, 43],\n",
       "        [44, 45, 46, 47, 44, 45, 46, 47],\n",
       "        [32, 33, 34, 35,  0,  0,  0,  0],\n",
       "        [36, 37, 38, 39,  0,  0,  0,  0],\n",
       "        [40, 41, 42, 43,  0,  0,  0,  0],\n",
       "        [44, 45, 46, 47,  0,  0,  0,  0]]], dtype=int32)"
      ]
     },
     "execution_count": 13,
     "metadata": {},
     "output_type": "execute_result"
    }
   ],
   "source": [
    "sess.run(y2)"
   ]
  },
  {
   "cell_type": "code",
   "execution_count": 14,
   "metadata": {
    "collapsed": false,
    "deletable": true,
    "editable": true
   },
   "outputs": [
    {
     "data": {
      "text/plain": [
       "array([[[ 0,  1,  2,  3,  0,  1,  2,  3],\n",
       "        [ 4,  5,  6,  7,  4,  5,  6,  7],\n",
       "        [ 8,  9, 10, 11,  8,  9, 10, 11],\n",
       "        [12, 13, 14, 15, 12, 13, 14, 15],\n",
       "        [ 0,  1,  2,  3,  0,  1,  2,  3],\n",
       "        [ 4,  5,  6,  7,  4,  5,  6,  7],\n",
       "        [ 8,  9, 10, 11,  8,  9, 10, 11],\n",
       "        [12, 13, 14, 15, 12, 13, 14, 15]],\n",
       "\n",
       "       [[16, 17, 18, 19, 16, 17, 18, 19],\n",
       "        [20, 21, 22, 23, 20, 21, 22, 23],\n",
       "        [24, 25, 26, 27, 24, 25, 26, 27],\n",
       "        [28, 29, 30, 31, 28, 29, 30, 31],\n",
       "        [16, 17, 18, 19, 16, 17, 18, 19],\n",
       "        [20, 21, 22, 23, 20, 21, 22, 23],\n",
       "        [24, 25, 26, 27, 24, 25, 26, 27],\n",
       "        [28, 29, 30, 31, 28, 29, 30, 31]],\n",
       "\n",
       "       [[32, 33, 34, 35, 32, 33, 34, 35],\n",
       "        [36, 37, 38, 39, 36, 37, 38, 39],\n",
       "        [40, 41, 42, 43, 40, 41, 42, 43],\n",
       "        [44, 45, 46, 47, 44, 45, 46, 47],\n",
       "        [32, 33, 34, 35, 32, 33, 34, 35],\n",
       "        [36, 37, 38, 39, 36, 37, 38, 39],\n",
       "        [40, 41, 42, 43, 40, 41, 42, 43],\n",
       "        [44, 45, 46, 47, 44, 45, 46, 47]]], dtype=int32)"
      ]
     },
     "execution_count": 14,
     "metadata": {},
     "output_type": "execute_result"
    }
   ],
   "source": [
    "sess.run(y3)"
   ]
  },
  {
   "cell_type": "markdown",
   "metadata": {
    "deletable": true,
    "editable": true
   },
   "source": [
    "=========================================="
   ]
  },
  {
   "cell_type": "code",
   "execution_count": 1,
   "metadata": {
    "collapsed": true,
    "deletable": true,
    "editable": true
   },
   "outputs": [],
   "source": [
    "import tensorflow as tf\n",
    "import numpy as np"
   ]
  },
  {
   "cell_type": "code",
   "execution_count": 2,
   "metadata": {
    "collapsed": false,
    "deletable": true,
    "editable": true
   },
   "outputs": [],
   "source": [
    "y1 = tf.cast(tf.Variable(np.ones([5, 10])), tf.int32)\n",
    "y1_b = tf.cast(tf.Variable(np.ones([5, 2])), tf.int32)\n",
    "\n",
    "y1_c = tf.concat([y1, y1_b], axis=1)"
   ]
  },
  {
   "cell_type": "code",
   "execution_count": 3,
   "metadata": {
    "collapsed": true,
    "deletable": true,
    "editable": true
   },
   "outputs": [],
   "source": [
    "sess = tf.Session()\n",
    "sess.run(tf.global_variables_initializer())"
   ]
  },
  {
   "cell_type": "code",
   "execution_count": 4,
   "metadata": {
    "collapsed": false,
    "deletable": true,
    "editable": true
   },
   "outputs": [
    {
     "data": {
      "text/plain": [
       "array([[1, 1, 1, 1, 1, 1, 1, 1, 1, 1, 1, 1],\n",
       "       [1, 1, 1, 1, 1, 1, 1, 1, 1, 1, 1, 1],\n",
       "       [1, 1, 1, 1, 1, 1, 1, 1, 1, 1, 1, 1],\n",
       "       [1, 1, 1, 1, 1, 1, 1, 1, 1, 1, 1, 1],\n",
       "       [1, 1, 1, 1, 1, 1, 1, 1, 1, 1, 1, 1]], dtype=int32)"
      ]
     },
     "execution_count": 4,
     "metadata": {},
     "output_type": "execute_result"
    }
   ],
   "source": [
    "sess.run(y1_c)"
   ]
  },
  {
   "cell_type": "code",
   "execution_count": 6,
   "metadata": {
    "collapsed": false,
    "deletable": true,
    "editable": true
   },
   "outputs": [
    {
     "data": {
      "text/plain": [
       "TensorShape([Dimension(5), Dimension(12)])"
      ]
     },
     "execution_count": 6,
     "metadata": {},
     "output_type": "execute_result"
    }
   ],
   "source": [
    "y1_c.get_shape()"
   ]
  },
  {
   "cell_type": "markdown",
   "metadata": {
    "collapsed": true,
    "deletable": true,
    "editable": true
   },
   "source": [
    "====================================="
   ]
  },
  {
   "cell_type": "code",
   "execution_count": 1,
   "metadata": {
    "collapsed": true
   },
   "outputs": [],
   "source": [
    "import numpy as np"
   ]
  },
  {
   "cell_type": "code",
   "execution_count": 2,
   "metadata": {
    "collapsed": true
   },
   "outputs": [],
   "source": [
    "# 2-dimensional normal distribution\n",
    "sampleNo = 1000\n",
    "\n",
    "mu = np.array([0, 0])\n",
    "sigma = np.array([[1, 0.5], [0.5, 1]])\n",
    "R = np.linalg.cholesky(sigma)\n",
    "s = np.dot(np.random.randn(sampleNo, 2), R) + mu"
   ]
  },
  {
   "cell_type": "code",
   "execution_count": 3,
   "metadata": {
    "collapsed": false
   },
   "outputs": [
    {
     "data": {
      "text/plain": [
       "array([[-1.19470404, -0.49877799],\n",
       "       [-1.44963235, -1.94071011],\n",
       "       [ 0.32874865,  0.44000653],\n",
       "       ..., \n",
       "       [ 1.16457073,  0.42219099],\n",
       "       [-1.36533182, -1.67703245],\n",
       "       [-1.61288714,  0.78441906]])"
      ]
     },
     "execution_count": 3,
     "metadata": {},
     "output_type": "execute_result"
    }
   ],
   "source": [
    "s"
   ]
  },
  {
   "cell_type": "code",
   "execution_count": 5,
   "metadata": {
    "collapsed": false
   },
   "outputs": [
    {
     "name": "stdout",
     "output_type": "stream",
     "text": [
      "[[ 1.   0.5  0.5]\n",
      " [ 0.5  1.   0.5]\n",
      " [ 0.5  0.5  1. ]]\n"
     ]
    }
   ],
   "source": [
    "# 3-dimensional normal distribution\n",
    "sampleNo = 1000\n",
    "\n",
    "mu = np.zeros(3)\n",
    "sigma = np.diag(np.ones(3))\n",
    "for i in range(sigma.shape[0]):\n",
    "    for j in range(sigma.shape[1]):\n",
    "        if i!=j:\n",
    "            sigma[i, j] = 0.5\n",
    "            \n",
    "print sigma\n",
    "            \n",
    "R = np.linalg.cholesky(sigma)\n",
    "s = np.dot(np.random.randn(sampleNo, 3), R) + mu"
   ]
  },
  {
   "cell_type": "code",
   "execution_count": 6,
   "metadata": {
    "collapsed": false
   },
   "outputs": [
    {
     "data": {
      "text/plain": [
       "array([[ 1.67892979,  1.00949795, -0.24306586],\n",
       "       [ 0.95749263,  1.14301574, -0.00480249],\n",
       "       [ 1.59797403,  0.82896914,  0.12742011],\n",
       "       ..., \n",
       "       [ 2.6208977 ,  0.17903275,  1.36195078],\n",
       "       [-2.05148868, -0.33023996, -0.91090021],\n",
       "       [ 1.10476179,  0.0234182 ,  0.00430271]])"
      ]
     },
     "execution_count": 6,
     "metadata": {},
     "output_type": "execute_result"
    }
   ],
   "source": [
    "s"
   ]
  },
  {
   "cell_type": "markdown",
   "metadata": {},
   "source": [
    "========================="
   ]
  },
  {
   "cell_type": "code",
   "execution_count": 7,
   "metadata": {
    "collapsed": true
   },
   "outputs": [],
   "source": [
    "import numpy as np"
   ]
  },
  {
   "cell_type": "code",
   "execution_count": 9,
   "metadata": {
    "collapsed": false
   },
   "outputs": [
    {
     "data": {
      "text/plain": [
       "(5, 12)"
      ]
     },
     "execution_count": 9,
     "metadata": {},
     "output_type": "execute_result"
    }
   ],
   "source": [
    "y = np.ones([5, 10])\n",
    "yb = np.ones([5, 2])\n",
    "\n",
    "np.concatenate([y, yb], axis=1)\n",
    "np.concatenate([y, yb], axis=1).shape"
   ]
  },
  {
   "cell_type": "code",
   "execution_count": 10,
   "metadata": {
    "collapsed": false
   },
   "outputs": [
    {
     "data": {
      "text/plain": [
       "array([ 0.,  0.], dtype=float32)"
      ]
     },
     "execution_count": 10,
     "metadata": {},
     "output_type": "execute_result"
    }
   ],
   "source": [
    "np.array([0, 0]).astype(np.float32)*5"
   ]
  },
  {
   "cell_type": "code",
   "execution_count": 13,
   "metadata": {
    "collapsed": false
   },
   "outputs": [
    {
     "data": {
      "text/plain": [
       "(0, 0)"
      ]
     },
     "execution_count": 13,
     "metadata": {},
     "output_type": "execute_result"
    }
   ],
   "source": [
    "np.tile(reps=np.array([0, 0]).astype(np.float32), A=[5]).shape"
   ]
  },
  {
   "cell_type": "code",
   "execution_count": 29,
   "metadata": {
    "collapsed": false
   },
   "outputs": [],
   "source": [
    "yb = np.array([[0, 1]]*5)"
   ]
  },
  {
   "cell_type": "code",
   "execution_count": 30,
   "metadata": {
    "collapsed": false
   },
   "outputs": [
    {
     "data": {
      "text/plain": [
       "array([[0, 1],\n",
       "       [0, 1],\n",
       "       [0, 1],\n",
       "       [0, 1],\n",
       "       [0, 1]])"
      ]
     },
     "execution_count": 30,
     "metadata": {},
     "output_type": "execute_result"
    }
   ],
   "source": [
    "yb"
   ]
  },
  {
   "cell_type": "code",
   "execution_count": null,
   "metadata": {
    "collapsed": true
   },
   "outputs": [],
   "source": []
  }
 ],
 "metadata": {
  "kernelspec": {
   "display_name": "Python 2",
   "language": "python",
   "name": "python2"
  },
  "language_info": {
   "codemirror_mode": {
    "name": "ipython",
    "version": 2
   },
   "file_extension": ".py",
   "mimetype": "text/x-python",
   "name": "python",
   "nbconvert_exporter": "python",
   "pygments_lexer": "ipython2",
   "version": "2.7.12"
  }
 },
 "nbformat": 4,
 "nbformat_minor": 2
}
